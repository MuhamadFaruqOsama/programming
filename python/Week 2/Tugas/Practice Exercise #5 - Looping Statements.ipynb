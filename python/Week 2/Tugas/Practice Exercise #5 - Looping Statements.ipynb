{
 "cells": [
  {
   "cell_type": "markdown",
   "metadata": {},
   "source": [
    "# **LOOPING STATEMENTS EXERCISE**"
   ]
  },
  {
   "cell_type": "markdown",
   "metadata": {},
   "source": [
    "### 1. Print -10 to -1 using for loop"
   ]
  },
  {
   "cell_type": "code",
   "execution_count": 2,
   "metadata": {},
   "outputs": [
    {
     "name": "stdout",
     "output_type": "stream",
     "text": [
      "-10\n",
      "-9\n",
      "-8\n",
      "-7\n",
      "-6\n",
      "-5\n",
      "-4\n",
      "-3\n",
      "-2\n",
      "-1\n"
     ]
    }
   ],
   "source": [
    "for i in range(-10, 0):\n",
    "    print(i)"
   ]
  },
  {
   "cell_type": "markdown",
   "metadata": {},
   "source": [
    "### 2. Using while loop print numbers 1 to 10"
   ]
  },
  {
   "cell_type": "code",
   "execution_count": 5,
   "metadata": {},
   "outputs": [
    {
     "name": "stdout",
     "output_type": "stream",
     "text": [
      "1\n",
      "2\n",
      "3\n",
      "4\n",
      "5\n",
      "6\n",
      "7\n",
      "8\n",
      "9\n",
      "10\n"
     ]
    }
   ],
   "source": [
    "i = 1\n",
    "\n",
    "while i <= 10:\n",
    "    print(i)\n",
    "    i += 1"
   ]
  },
  {
   "cell_type": "markdown",
   "metadata": {},
   "source": [
    "### 3. Using for loop print first ten even numbers"
   ]
  },
  {
   "cell_type": "code",
   "execution_count": 9,
   "metadata": {},
   "outputs": [
    {
     "name": "stdout",
     "output_type": "stream",
     "text": [
      "10\n",
      "20\n",
      "30\n",
      "40\n",
      "50\n",
      "60\n",
      "70\n",
      "80\n",
      "90\n",
      "100\n"
     ]
    }
   ],
   "source": [
    "for i in range(10, 101, 10):\n",
    "    print(i)"
   ]
  },
  {
   "cell_type": "markdown",
   "metadata": {},
   "source": [
    "### 4. Using while loop generate the table of 5"
   ]
  },
  {
   "cell_type": "code",
   "execution_count": 3,
   "metadata": {},
   "outputs": [
    {
     "name": "stdout",
     "output_type": "stream",
     "text": [
      "9.0 x 0 = 0.0\n",
      "9.0 x 1 = 9.0\n",
      "9.0 x 2 = 18.0\n",
      "9.0 x 3 = 27.0\n",
      "9.0 x 4 = 36.0\n",
      "9.0 x 5 = 45.0\n",
      "9.0 x 6 = 54.0\n",
      "9.0 x 7 = 63.0\n",
      "9.0 x 8 = 72.0\n",
      "9.0 x 9 = 81.0\n",
      "9.0 x 10 = 90.0\n"
     ]
    }
   ],
   "source": [
    "i = 0\n",
    "\n",
    "while i <= 10:\n",
    "    print(f\"5 x {i} = {5*i}\")\n",
    "    i += 1\n",
    "\n",
    "# with function and input\n",
    "# def tableOf(n):\n",
    "#     i = 0\n",
    "#     while i <= 10:\n",
    "#         print(f\"{n} x {i} = {n*i}\")\n",
    "#         i += 1\n",
    "\n",
    "# number = input(\"input any number : \")\n",
    "# tableOf(float(number))"
   ]
  },
  {
   "cell_type": "markdown",
   "metadata": {},
   "source": [
    "### 5. Using for loop generate the table of 8"
   ]
  },
  {
   "cell_type": "code",
   "execution_count": 12,
   "metadata": {},
   "outputs": [
    {
     "name": "stdout",
     "output_type": "stream",
     "text": [
      "8 x 0 = 0\n",
      "8 x 1 = 8\n",
      "8 x 2 = 16\n",
      "8 x 3 = 24\n",
      "8 x 4 = 32\n",
      "8 x 5 = 40\n",
      "8 x 6 = 48\n",
      "8 x 7 = 56\n",
      "8 x 8 = 64\n",
      "8 x 9 = 72\n"
     ]
    }
   ],
   "source": [
    "for i in range(10):\n",
    "    print(f\"8 x {i} = {8*i}\")"
   ]
  },
  {
   "cell_type": "markdown",
   "metadata": {},
   "source": [
    "### 6. For numbers 1 to 100, if a number is divisible by 3, then print Fizz.\n",
    "### If a number is divisible by 5, then print Buzz.\n",
    "### If a number is divisible by 3 and 5 both, then print FizzBuzz\n",
    "### If a number is neither divisible by 3 or 5, just print the number.\n",
    "\n",
    "Hint: use range(1,101) function  to generate numbers from 1 to 100"
   ]
  },
  {
   "cell_type": "code",
   "execution_count": 13,
   "metadata": {},
   "outputs": [
    {
     "name": "stdout",
     "output_type": "stream",
     "text": [
      "1\n",
      "2\n",
      "Fizz\n",
      "4\n",
      "Buzz\n",
      "Fizz\n",
      "7\n",
      "8\n",
      "Fizz\n",
      "Buzz\n",
      "11\n",
      "Fizz\n",
      "13\n",
      "14\n",
      "FizzBuzz\n",
      "16\n",
      "17\n",
      "Fizz\n",
      "19\n",
      "Buzz\n",
      "Fizz\n",
      "22\n",
      "23\n",
      "Fizz\n",
      "Buzz\n",
      "26\n",
      "Fizz\n",
      "28\n",
      "29\n",
      "FizzBuzz\n",
      "31\n",
      "32\n",
      "Fizz\n",
      "34\n",
      "Buzz\n",
      "Fizz\n",
      "37\n",
      "38\n",
      "Fizz\n",
      "Buzz\n",
      "41\n",
      "Fizz\n",
      "43\n",
      "44\n",
      "FizzBuzz\n",
      "46\n",
      "47\n",
      "Fizz\n",
      "49\n",
      "Buzz\n",
      "Fizz\n",
      "52\n",
      "53\n",
      "Fizz\n",
      "Buzz\n",
      "56\n",
      "Fizz\n",
      "58\n",
      "59\n",
      "FizzBuzz\n",
      "61\n",
      "62\n",
      "Fizz\n",
      "64\n",
      "Buzz\n",
      "Fizz\n",
      "67\n",
      "68\n",
      "Fizz\n",
      "Buzz\n",
      "71\n",
      "Fizz\n",
      "73\n",
      "74\n",
      "FizzBuzz\n",
      "76\n",
      "77\n",
      "Fizz\n",
      "79\n",
      "Buzz\n",
      "Fizz\n",
      "82\n",
      "83\n",
      "Fizz\n",
      "Buzz\n",
      "86\n",
      "Fizz\n",
      "88\n",
      "89\n",
      "FizzBuzz\n",
      "91\n",
      "92\n",
      "Fizz\n",
      "94\n",
      "Buzz\n",
      "Fizz\n",
      "97\n",
      "98\n",
      "Fizz\n",
      "Buzz\n"
     ]
    }
   ],
   "source": [
    "for i in range(1,101):\n",
    "    if i % 3 == 0 and i % 5 == 0:\n",
    "        print(\"FizzBuzz\")\n",
    "    elif i % 3 == 0:\n",
    "        print(\"Fizz\")\n",
    "    elif i % 5 == 0:\n",
    "        print(\"Buzz\")\n",
    "    else:\n",
    "        print(i)\n"
   ]
  },
  {
   "cell_type": "code",
   "execution_count": 1,
   "metadata": {},
   "outputs": [
    {
     "name": "stdout",
     "output_type": "stream",
     "text": [
      "0\n",
      "1\n",
      "2\n",
      "3\n",
      "4\n",
      "5\n",
      "6\n",
      "7\n",
      "8\n",
      "9\n",
      "10\n",
      "11\n",
      "12\n",
      "13\n",
      "14\n",
      "15\n",
      "16\n",
      "17\n",
      "18\n",
      "19\n",
      "20\n",
      "21\n",
      "22\n",
      "23\n",
      "24\n",
      "25\n",
      "26\n",
      "27\n",
      "28\n",
      "29\n",
      "30\n",
      "ok\n",
      "32\n",
      "ok\n",
      "34\n",
      "ok\n",
      "36\n",
      "ok\n",
      "38\n",
      "ok\n",
      "40\n",
      "ok\n",
      "42\n",
      "ok\n",
      "44\n",
      "ok\n",
      "46\n",
      "ok\n",
      "48\n",
      "ok\n",
      "50\n",
      "ok\n",
      "52\n",
      "ok\n",
      "54\n",
      "ok\n",
      "56\n",
      "ok\n",
      "58\n",
      "ok\n",
      "60\n",
      "ok\n",
      "62\n",
      "ok\n",
      "64\n",
      "ok\n",
      "66\n",
      "ok\n",
      "68\n",
      "ok\n",
      "70\n",
      "ok\n",
      "72\n",
      "ok\n",
      "74\n",
      "ok\n",
      "76\n",
      "ok\n",
      "78\n",
      "ok\n",
      "80\n",
      "ok\n",
      "82\n",
      "ok\n",
      "84\n",
      "ok\n",
      "86\n",
      "ok\n",
      "88\n",
      "ok\n",
      "90\n",
      "ok\n",
      "92\n",
      "ok\n",
      "94\n",
      "ok\n",
      "96\n",
      "ok\n",
      "98\n",
      "ok\n"
     ]
    }
   ],
   "source": [
    "for i in range(100):\n",
    "    if i > 30 and i % 2 != 0:\n",
    "        print('ok')\n",
    "    else:\n",
    "        print(i)"
   ]
  },
  {
   "cell_type": "code",
   "execution_count": 4,
   "metadata": {},
   "outputs": [
    {
     "name": "stdout",
     "output_type": "stream",
     "text": [
      "1\n",
      "2\n",
      "3\n",
      "4\n",
      "5\n",
      "6\n",
      "7\n",
      "8\n",
      "9\n",
      "10\n",
      "11\n",
      "12\n",
      "13\n",
      "14\n",
      "15\n",
      "16\n",
      "17\n",
      "18\n",
      "19\n",
      "20\n",
      "21\n",
      "22\n",
      "23\n",
      "24\n",
      "25\n",
      "26\n",
      "27\n",
      "28\n",
      "29\n",
      "30\n",
      "31\n",
      "32\n",
      "33\n",
      "34\n",
      "35\n",
      "36\n",
      "37\n",
      "38\n",
      "39\n",
      "40\n",
      "41\n",
      "42\n",
      "43\n",
      "44\n",
      "45\n",
      "46\n",
      "47\n",
      "48\n",
      "49\n"
     ]
    }
   ],
   "source": [
    "for i in range(1, 50):\n",
    "    powerOfTwo = 2 ** i\n",
    "    if i == powerOfTwo:\n",
    "        print(\"ok\")\n",
    "    else:\n",
    "        print(i)"
   ]
  },
  {
   "cell_type": "code",
   "execution_count": 8,
   "metadata": {},
   "outputs": [
    {
     "name": "stdout",
     "output_type": "stream",
     "text": [
      "[-27.0]\n",
      "[-27.0, -25.9]\n",
      "[-27.0, -25.9, -22.8]\n",
      "[-27.0, -25.9, -22.8, -17.7]\n",
      "[-27.0, -25.9, -22.8, -17.7, -10.6]\n",
      "[-27.0, -25.9, -22.8, -17.7, -10.6, -1.5]\n",
      "[-27.0, -25.9, -22.8, -17.7, -10.6, -1.5, 9.6]\n",
      "[-27.0, -25.9, -22.8, -17.7, -10.6, -1.5, 9.6, 22.7]\n"
     ]
    }
   ],
   "source": [
    "def calculateBro(e):\n",
    "    hasil = []\n",
    "    a = 0\n",
    "    while a <= 1000:\n",
    "        FA = (a ** 2) - (e ** 3) + a/10\n",
    "        if(FA >= 30):\n",
    "            break\n",
    "        else:\n",
    "            hasil.append(FA)\n",
    "            print(hasil)\n",
    "        a +=1\n",
    "    \n",
    "e = float(input(\"Input number of e : \"))    \n",
    "calculateBro(e)"
   ]
  },
  {
   "cell_type": "markdown",
   "metadata": {},
   "source": [
    "### 7.  Using the range function find the sum of all numbers from 1 to 100.\n",
    "    For the numbers in the range (1,100):1+2+3+4+5......+100 = 5050"
   ]
  },
  {
   "cell_type": "code",
   "execution_count": 15,
   "metadata": {},
   "outputs": [
    {
     "data": {
      "text/plain": [
       "5050"
      ]
     },
     "execution_count": 15,
     "metadata": {},
     "output_type": "execute_result"
    }
   ],
   "source": [
    "sum_numbers = 0\n",
    "\n",
    "for i in range(1, 101):\n",
    "    sum_numbers += i\n",
    "\n",
    "sum_numbers"
   ]
  },
  {
   "cell_type": "markdown",
   "metadata": {},
   "source": [
    "### 8. Write a program which will find all such numbers which are divisible by 7 but are not a multiple of 5, between 202 and 320 (both included)."
   ]
  },
  {
   "cell_type": "code",
   "execution_count": 16,
   "metadata": {},
   "outputs": [
    {
     "name": "stdout",
     "output_type": "stream",
     "text": [
      "203\n",
      "217\n",
      "224\n",
      "231\n",
      "238\n",
      "252\n",
      "259\n",
      "266\n",
      "273\n",
      "287\n",
      "294\n",
      "301\n",
      "308\n"
     ]
    }
   ],
   "source": [
    "for i in range(202, 321):\n",
    "    if i % 7 == 0 and i % 5 != 0:\n",
    "        print(i)"
   ]
  },
  {
   "cell_type": "markdown",
   "metadata": {},
   "source": [
    "### 9. Python Program to count the number of vowels in a string.\n",
    "st = \"Data Science\"\n",
    "\n",
    "Output: No of vowels = 5"
   ]
  },
  {
   "cell_type": "code",
   "execution_count": 22,
   "metadata": {},
   "outputs": [
    {
     "data": {
      "text/plain": [
       "5"
      ]
     },
     "execution_count": 22,
     "metadata": {},
     "output_type": "execute_result"
    }
   ],
   "source": [
    "# declaration\n",
    "st = \"Data Science\"\n",
    "vowels = ['a','i','u','e','o']\n",
    "number_of_vowels = 0\n",
    "\n",
    "# calculate\n",
    "for char in st:\n",
    "    if char.lower() in vowels:\n",
    "        number_of_vowels += 1\n",
    "    \n",
    "number_of_vowels"
   ]
  },
  {
   "cell_type": "markdown",
   "metadata": {},
   "source": [
    "### 10. Print Data Science 5 times using for loop"
   ]
  },
  {
   "cell_type": "code",
   "execution_count": 17,
   "metadata": {},
   "outputs": [
    {
     "name": "stdout",
     "output_type": "stream",
     "text": [
      "Data Science\n",
      "Data Science\n",
      "Data Science\n",
      "Data Science\n",
      "Data Science\n"
     ]
    }
   ],
   "source": [
    "for i in range(5):\n",
    "    print(\"Data Science\")"
   ]
  }
 ],
 "metadata": {
  "kernelspec": {
   "display_name": "Python 3 (ipykernel)",
   "language": "python",
   "name": "python3"
  },
  "language_info": {
   "codemirror_mode": {
    "name": "ipython",
    "version": 3
   },
   "file_extension": ".py",
   "mimetype": "text/x-python",
   "name": "python",
   "nbconvert_exporter": "python",
   "pygments_lexer": "ipython3",
   "version": "3.12.3"
  }
 },
 "nbformat": 4,
 "nbformat_minor": 4
}
