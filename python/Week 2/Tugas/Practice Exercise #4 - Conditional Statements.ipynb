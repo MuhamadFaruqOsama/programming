{
 "cells": [
  {
   "cell_type": "markdown",
   "metadata": {},
   "source": [
    "# **CONDITIONAL STATEMENTS EXERCISE**"
   ]
  },
  {
   "cell_type": "markdown",
   "metadata": {},
   "source": [
    "### 1. Check if a is equal to 10, If yes, print \"Hello\", else print \"Good Bye\"\n",
    "a = 56"
   ]
  },
  {
   "cell_type": "code",
   "execution_count": 5,
   "metadata": {},
   "outputs": [
    {
     "name": "stdout",
     "output_type": "stream",
     "text": [
      "Good Bye\n",
      "Good Bye\n"
     ]
    }
   ],
   "source": [
    "# declaration\n",
    "a = 56\n",
    "\n",
    "# ternary\n",
    "print(\"Hello\") if a == 10 else print(\"Good Bye\")\n",
    "\n",
    "# if else\n",
    "if a == 10:\n",
    "    print(\"Hello\")\n",
    "else:\n",
    "    print(\"Good Bye\")"
   ]
  },
  {
   "cell_type": "markdown",
   "metadata": {},
   "source": [
    "### 2. Check whether a number is even or odd\n",
    "a = 2020"
   ]
  },
  {
   "cell_type": "code",
   "execution_count": 7,
   "metadata": {},
   "outputs": [
    {
     "name": "stdout",
     "output_type": "stream",
     "text": [
      "even\n",
      "even\n"
     ]
    }
   ],
   "source": [
    "# declaration\n",
    "year = 2020\n",
    "\n",
    "# check is year even or odd\n",
    "# ternary\n",
    "print(\"even\") if year % 4 == 0 else print(\"odd\")\n",
    "\n",
    "# if else\n",
    "if year % 4 == 0:\n",
    "    print(\"even\")\n",
    "else:\n",
    "    print(\"odd\")"
   ]
  },
  {
   "cell_type": "markdown",
   "metadata": {},
   "source": [
    "### 3.  Check whether the area of the rectangle is greater than the perimeter of the rectangle\n",
    "length = 5\n",
    "breadth = 10\n",
    "\n",
    "Hint: Area of rectangle = length * breadth \n",
    "\n",
    "Hint: Perimeter of rectangle = 2 * (length + breadth)"
   ]
  },
  {
   "cell_type": "code",
   "execution_count": 9,
   "metadata": {},
   "outputs": [
    {
     "name": "stdout",
     "output_type": "stream",
     "text": [
      "Area of the rectangle : 50 is greater than the perimeter of rectangle : 30\n"
     ]
    }
   ],
   "source": [
    "# declaration\n",
    "length = 5\n",
    "breadth = 10\n",
    "\n",
    "# calculate the area of rectangle\n",
    "rectangle_area = length * breadth\n",
    "\n",
    "# calculate the perimeter of rectangle\n",
    "rectangle_perimeter = 2 * (length + breadth)\n",
    "\n",
    "# check is rectangle_area greater than rectangle_perimeter or not\n",
    "if rectangle_area > rectangle_perimeter:\n",
    "    print(f\"Area of the rectangle : {rectangle_area}, is greater than the perimeter of rectangle : {rectangle_perimeter}\")\n",
    "else:\n",
    "    print(f\"Area of the rectangle : {rectangle_area}, is not greater than the perimeter of rectangle : {rectangle_perimeter}\")"
   ]
  },
  {
   "cell_type": "markdown",
   "metadata": {},
   "source": [
    "### 4. Calculate the average marks of a student in 5 subjects and give grades accordingly:\n",
    "If average>90 then Grade = A\n",
    "\n",
    "If average>80 then Grade = B\n",
    "\n",
    "If average>70 then Grade = C\n",
    "\n",
    "If average>60 then Grade = D\n",
    "\n",
    "If average>50 then Grade = E\n",
    "\n",
    "else Fail\n",
    "\n",
    "Marks in subject 1= 72\n",
    "\n",
    "Marks in subject 2= 85\n",
    "\n",
    "Marks in subject 3= 96\n",
    "\n",
    "Marks in subject 4= 42\n",
    "\n",
    "Marks in subject 5= 95"
   ]
  },
  {
   "cell_type": "code",
   "execution_count": 12,
   "metadata": {},
   "outputs": [
    {
     "name": "stdout",
     "output_type": "stream",
     "text": [
      "Average : 78.0\n",
      "C\n"
     ]
    }
   ],
   "source": [
    "# declaration\n",
    "marks = [72, 85, 96, 42, 95]\n",
    "grades = [\"A\",\"B\",\"C\",\"D\",\"E\"]\n",
    "average = 0\n",
    "\n",
    "# calculate the average\n",
    "average = sum(marks) / len(marks)\n",
    "\n",
    "print(f\"Average : {average}\")\n",
    "\n",
    "# print\n",
    "if average > 90:\n",
    "    print(grades[0])\n",
    "elif average > 80:\n",
    "    print(grades[1])\n",
    "elif average > 70:\n",
    "    print(grades[2])\n",
    "elif average > 60:\n",
    "    print(grades[3])\n",
    "elif average > 50:\n",
    "    print(grades[4])\n",
    "else:\n",
    "    print(\"Fail\")"
   ]
  },
  {
   "cell_type": "markdown",
   "metadata": {},
   "source": [
    "###  5. Check if a triangle is equilateral, isosceles or scalene.\n",
    "\n",
    "Hint :\n",
    "1. An equilateral triangle is a triangle in which all three sides are equal.\n",
    "\n",
    "2. A scalene triangle is a triangle that has three unequal sides.\n",
    "\n",
    "3. An isosceles triangle is a triangle with (at least) two equal sides.\n",
    "\n",
    "Dimensions of triangle:\n",
    "\n",
    "side 1 = 6 \n",
    "\n",
    "side 2 = 8 \n",
    "\n",
    "side 3 = 12"
   ]
  },
  {
   "cell_type": "code",
   "execution_count": 13,
   "metadata": {},
   "outputs": [
    {
     "name": "stdout",
     "output_type": "stream",
     "text": [
      "Scalene triangle\n"
     ]
    }
   ],
   "source": [
    "# declaration\n",
    "side_1 = 6\n",
    "side_2 = 8\n",
    "side_3 = 12\n",
    "\n",
    "# check the triangle\n",
    "if side_1 == side_2 == side_3:\n",
    "    print(\"Equilateral triangle\")\n",
    "elif side_1 == side_2 or side_1 == side_3 or side_2 == side_3:\n",
    "    print(\"Isosceles triangle\")\n",
    "else:\n",
    "    print(\"Scalene triangle\")"
   ]
  },
  {
   "cell_type": "markdown",
   "metadata": {},
   "source": [
    "### 6. Check if the word \"Data\" is present in the sentence \"I am a Data Scientist\". If found print \"It is present\" else print FALSE"
   ]
  },
  {
   "cell_type": "code",
   "execution_count": 14,
   "metadata": {},
   "outputs": [
    {
     "name": "stdout",
     "output_type": "stream",
     "text": [
      "It is present\n"
     ]
    }
   ],
   "source": [
    "random_sentence = \"I am a Data Scientist\"\n",
    "is_present = \"Data\"\n",
    "\n",
    "if is_present in random_sentence:\n",
    "    print(\"It is present\")\n",
    "else:\n",
    "    print(\"FALSE\")"
   ]
  },
  {
   "cell_type": "code",
   "execution_count": 4,
   "metadata": {},
   "outputs": [
    {
     "name": "stdout",
     "output_type": "stream",
     "text": [
      "cek\n"
     ]
    }
   ],
   "source": [
    "random_sentence = \"I am a Data Scientist\"\n",
    "is_present = \"Data\"\n",
    "is_present_2 = \"a\"\n",
    "\n",
    "\n",
    "if is_present and is_present_2 in random_sentence:\n",
    "    print(\"cek\")\n",
    "elif is_present or is_present_2 in random_sentence:\n",
    "    print(\"It is present\")\n",
    "else:\n",
    "    print(\"FALSE\")"
   ]
  },
  {
   "cell_type": "markdown",
   "metadata": {},
   "source": [
    "### 7. Write Python code to check if a number is positive or negative."
   ]
  },
  {
   "cell_type": "code",
   "execution_count": 17,
   "metadata": {},
   "outputs": [
    {
     "name": "stdout",
     "output_type": "stream",
     "text": [
      "Negative number\n"
     ]
    }
   ],
   "source": [
    "# declaration\n",
    "random_number = -0.000001\n",
    "\n",
    "if random_number >= 0:\n",
    "    print(\"Positive number\")\n",
    "else:\n",
    "    print(\"Negative number\")"
   ]
  },
  {
   "cell_type": "markdown",
   "metadata": {},
   "source": [
    "### 8. x = 20 and y = 30. Write a Python code to check if x is less than y."
   ]
  },
  {
   "cell_type": "code",
   "execution_count": 18,
   "metadata": {},
   "outputs": [
    {
     "name": "stdout",
     "output_type": "stream",
     "text": [
      "X is less than Y\n"
     ]
    }
   ],
   "source": [
    "# declaration\n",
    "x = 20\n",
    "y = 30\n",
    "\n",
    "print(\"X is less than Y\") if x < y else print(\"X is more than Y\")"
   ]
  },
  {
   "cell_type": "markdown",
   "metadata": {},
   "source": [
    "### 9. Based on the users age, divide them into three groups \n",
    "    Group 1 : Age <18 , Minors who are not eligible to work\n",
    "    Group 2 : 18 < Age < 60 , Eligible to work\n",
    "    Group 3 : Age > 60, Too old to work as per govt. regulations. \n",
    "\n",
    "### Write a Python code for the same"
   ]
  },
  {
   "cell_type": "code",
   "execution_count": 7,
   "metadata": {},
   "outputs": [
    {
     "data": {
      "text/plain": [
       "'suhar (8.0 years old) Not eligible to work'"
      ]
     },
     "execution_count": 7,
     "metadata": {},
     "output_type": "execute_result"
    }
   ],
   "source": [
    "# declaration\n",
    "# user_profile = [\n",
    "#     {\"name\": \"Agus\", \"age\": 65},\n",
    "#     {\"name\": \"Budi\", \"age\": 25},\n",
    "#     {\"name\": \"Charlie\", \"age\": 30},\n",
    "#     {\"name\": \"Deni\", \"age\": 40},\n",
    "#     {\"name\": \"Eko\", \"age\": 61},\n",
    "#     {\"name\": \"Fandi\", \"age\": 22},\n",
    "#     {\"name\": \"Gita\", \"age\": 16},\n",
    "#     {\"name\": \"Hana\", \"age\": 17},\n",
    "#     {\"name\": \"Indra\", \"age\": 33},\n",
    "# ]\n",
    "\n",
    "# # groups\n",
    "# not_eligible = []\n",
    "# eligible = []\n",
    "# too_old = []\n",
    "\n",
    "# # check the users age\n",
    "# for i in range(len(user_profile)):\n",
    "#     if user_profile[i]['age'] > 60:\n",
    "#         print(f\"{user_profile[i]['name']} Too old to work as per govt\")\n",
    "#         too_old.append(user_profile[i]['name'])\n",
    "#     elif user_profile[i]['age'] > 18 and user_profile[i]['age'] <= 60:\n",
    "#         print(f\"{user_profile[i]['name']} Eligible to work\")\n",
    "#         eligible.append(user_profile[i]['name'])\n",
    "#     else:\n",
    "#         print(f\"{user_profile[i]['name']} Not eligible to work\")\n",
    "#         eligible.append(user_profile[i]['name'])\n",
    "\n",
    "# print everyone who eligible to work\n",
    "# print(\"\\nList person who eligible to work :\")\n",
    "# for i in range(len(eligible)):\n",
    "#     print(\"-\", eligible[i])\n",
    "\n",
    "# # print everyone who not eligible to work\n",
    "# print(\"\\nList person who not eligible to work :\")\n",
    "# for i in range(len(not_eligible)):\n",
    "#     print(\"-\", not_eligible[i])\n",
    "\n",
    "# # print everyone who too old to work\n",
    "# print(\"\\nList person who too old to work :\")\n",
    "# for i in range(len(too_old)):\n",
    "#     print(\"-\", too_old[i])\n",
    "\n",
    "username = input(\"Input the username : \")\n",
    "age = input(\"Input age : \")\n",
    "\n",
    "def isEligible(username, age):\n",
    "    result = ''\n",
    "    if age > 60:\n",
    "        result = f\"{username} ({age} years old) Too old to work as per govt \"\n",
    "    elif age >= 18 and age <= 60:\n",
    "        result = f\"{username} ({age} years old) Eligible to work\"\n",
    "    elif age < 18 :\n",
    "        result = f\"{username} ({age} years old) Not eligible to work\"\n",
    "    else:\n",
    "        result = 'Input the valid age!'\n",
    "\n",
    "    return result\n",
    "\n",
    "isEligible(username, int(age))\n",
    "\n"
   ]
  },
  {
   "cell_type": "markdown",
   "metadata": {},
   "source": [
    "### 10. From the age of 3 people determine the oldest person among them.\n",
    "Age of first person = 25\n",
    "\n",
    "Age of second person = 34\n",
    "\n",
    "Age of third person = 45"
   ]
  },
  {
   "cell_type": "code",
   "execution_count": 8,
   "metadata": {},
   "outputs": [
    {
     "data": {
      "text/plain": [
       "45"
      ]
     },
     "execution_count": 8,
     "metadata": {},
     "output_type": "execute_result"
    }
   ],
   "source": [
    "# declaration\n",
    "people_ages = [25,34,45]\n",
    "\n",
    "max(people_ages)"
   ]
  },
  {
   "cell_type": "code",
   "execution_count": 7,
   "metadata": {},
   "outputs": [
    {
     "name": "stdout",
     "output_type": "stream",
     "text": [
      "5\n",
      "10\n",
      "15\n",
      "20\n",
      "25\n",
      "30\n",
      "35\n",
      "40\n",
      "45\n",
      "50\n",
      "55\n",
      "60\n",
      "65\n",
      "70\n",
      "75\n",
      "80\n",
      "85\n",
      "90\n",
      "95\n",
      "100\n",
      "105\n",
      "110\n",
      "115\n",
      "120\n",
      "125\n",
      "130\n",
      "135\n",
      "140\n",
      "145\n",
      "150\n",
      "155\n",
      "160\n",
      "165\n",
      "170\n",
      "175\n",
      "180\n",
      "185\n",
      "190\n",
      "195\n",
      "200\n",
      "205\n",
      "210\n",
      "215\n",
      "220\n",
      "225\n",
      "230\n",
      "235\n",
      "240\n",
      "245\n",
      "250\n",
      "255\n",
      "260\n",
      "265\n",
      "270\n",
      "275\n",
      "280\n",
      "285\n",
      "290\n",
      "295\n",
      "300\n",
      "305\n",
      "310\n",
      "315\n",
      "320\n",
      "325\n",
      "330\n",
      "335\n",
      "340\n",
      "345\n",
      "350\n",
      "355\n",
      "Kamu cukup tua\n"
     ]
    }
   ],
   "source": [
    "usia = 5\n",
    "\n",
    "for i in range(1, 100):\n",
    "    if(i * usia) >= 1000:\n",
    "        print(\"Kamu cukup tua\")\n",
    "        break\n",
    "    else:\n",
    "        print(i * usia)\n",
    "        if(i >= 100):\n",
    "            print(\"Kamu cukup muda\")\n",
    "            break"
   ]
  },
  {
   "cell_type": "code",
   "execution_count": null,
   "metadata": {},
   "outputs": [],
   "source": [
    "mata_kuliah = input(\"Insert favorite matkul : (gunakan tanda koma jika lebih dari 1)\")\n",
    "\n",
    "mata_kuliah = mata_kuliah.split(\",\")\n",
    "\n",
    "for i in range(len(mata_kuliah)):\n",
    "    if "
   ]
  },
  {
   "cell_type": "code",
   "execution_count": null,
   "metadata": {},
   "outputs": [],
   "source": []
  }
 ],
 "metadata": {
  "kernelspec": {
   "display_name": "Python 3 (ipykernel)",
   "language": "python",
   "name": "python3"
  },
  "language_info": {
   "codemirror_mode": {
    "name": "ipython",
    "version": 3
   },
   "file_extension": ".py",
   "mimetype": "text/x-python",
   "name": "python",
   "nbconvert_exporter": "python",
   "pygments_lexer": "ipython3",
   "version": "3.12.3"
  }
 },
 "nbformat": 4,
 "nbformat_minor": 4
}
