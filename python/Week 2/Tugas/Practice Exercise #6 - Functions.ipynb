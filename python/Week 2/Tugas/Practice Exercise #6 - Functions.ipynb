{
 "cells": [
  {
   "cell_type": "markdown",
   "metadata": {},
   "source": [
    "# **USER DEFINED FUNCTION AND LAMBDA FUNCTIONS EXERCISE**"
   ]
  },
  {
   "cell_type": "markdown",
   "metadata": {},
   "source": [
    "### 1. Write a function to add, subtract, multiply and divide two variables passed to it and print the result "
   ]
  },
  {
   "cell_type": "code",
   "execution_count": 3,
   "metadata": {},
   "outputs": [
    {
     "data": {
      "text/plain": [
       "'wrong type!'"
      ]
     },
     "execution_count": 3,
     "metadata": {},
     "output_type": "execute_result"
    }
   ],
   "source": [
    "def calculate(a, b, type):\n",
    "    if type.lower() == 'add':\n",
    "        return a + b\n",
    "    elif type.lower() == 'subtract':\n",
    "        return a - b\n",
    "    elif type.lower() == 'multiply':\n",
    "        return a * b\n",
    "    elif type.lower() == 'divide':\n",
    "        return a / b\n",
    "    else:\n",
    "        return \"wrong type!\"\n",
    "    \n",
    "number1 = input('Input first number : ')\n",
    "number2 = input('Input second number : ')\n",
    "type    = input('Choose type (add/subtract/multiply/divide) : ')\n",
    "\n",
    "calculate(float(number1), float(number2), type)\n"
   ]
  },
  {
   "cell_type": "markdown",
   "metadata": {},
   "source": [
    "### 2. Write a Python function given range (1,10) both included, that gives the square of every number"
   ]
  },
  {
   "cell_type": "code",
   "execution_count": 7,
   "metadata": {},
   "outputs": [
    {
     "data": {
      "text/plain": [
       "[1, 4, 9, 16, 25, 36, 49, 64]"
      ]
     },
     "execution_count": 7,
     "metadata": {},
     "output_type": "execute_result"
    }
   ],
   "source": [
    "def square(a, b):\n",
    "    list_square = []\n",
    "    if int(a) > 10 or int(a) < 1 or int(b) > 10 or int(b) < 1:\n",
    "        return \"Please input number between 1 - 10\"\n",
    "    else:\n",
    "        for i in range(a, b+1):\n",
    "            list_square.append(i**2)\n",
    "        \n",
    "        return list_square\n",
    "\n",
    "square(1, 9)"
   ]
  },
  {
   "cell_type": "markdown",
   "metadata": {},
   "source": [
    "### 3. Write a function to calculate simple interest\n",
    "\n",
    "simple interest = (Principal amount * Annual Rate of interest * Time(in years))/100\n",
    "\n",
    "Take values as follows\n",
    "\n",
    "Principal Amount = 1000\n",
    "\n",
    "Rate of interest = 3%\n",
    "\n",
    "Time = 5 years"
   ]
  },
  {
   "cell_type": "code",
   "execution_count": 30,
   "metadata": {},
   "outputs": [
    {
     "data": {
      "text/plain": [
       "30.0"
      ]
     },
     "execution_count": 30,
     "metadata": {},
     "output_type": "execute_result"
    }
   ],
   "source": [
    "def simple_interest(principle_amount, rate_interest, time):\n",
    "    if not isinstance(rate_interest, (int, float)):\n",
    "        rate = rate_interest.replace(\"%\", \"\")\n",
    "        rate = float(rate)\n",
    "    else:\n",
    "        rate = rate_interest\n",
    "\n",
    "    rate /= 100\n",
    "    return (principle_amount * rate * time)/100\n",
    "\n",
    "# input => principle amount, rate of interest (percent), time (years)\n",
    "simple_interest(1000, 60, 5)\n"
   ]
  },
  {
   "cell_type": "markdown",
   "metadata": {},
   "source": [
    "### 4. Write a function to check the number is divisible by 25. The function should return True if divisible and \"Not divisible\" if not"
   ]
  },
  {
   "cell_type": "code",
   "execution_count": 33,
   "metadata": {},
   "outputs": [
    {
     "data": {
      "text/plain": [
       "True"
      ]
     },
     "execution_count": 33,
     "metadata": {},
     "output_type": "execute_result"
    }
   ],
   "source": [
    "def isDivisibleBy25(number):\n",
    "    temp_number = number\n",
    "    if not isinstance(number, (int, float)):\n",
    "        temp_number = float(number)\n",
    "    \n",
    "    if temp_number % 25 == 0:\n",
    "        return True\n",
    "    else:\n",
    "        return \"Not divisible\"\n",
    "\n",
    "isDivisibleBy25(\"50\")"
   ]
  },
  {
   "cell_type": "markdown",
   "metadata": {},
   "source": [
    "### 5. Define a function that takes an input, squares it, adds 5, then returns the answer"
   ]
  },
  {
   "cell_type": "code",
   "execution_count": 34,
   "metadata": {},
   "outputs": [
    {
     "data": {
      "text/plain": [
       "9"
      ]
     },
     "execution_count": 34,
     "metadata": {},
     "output_type": "execute_result"
    }
   ],
   "source": [
    "def count(input):\n",
    "    return (input ** 2) + 5\n",
    "\n",
    "count(2)"
   ]
  },
  {
   "cell_type": "markdown",
   "metadata": {},
   "source": [
    "### 6. Using lambda function perform the following task : take an input, squares it, add 5, then return the answer"
   ]
  },
  {
   "cell_type": "code",
   "execution_count": 36,
   "metadata": {},
   "outputs": [
    {
     "data": {
      "text/plain": [
       "105"
      ]
     },
     "execution_count": 36,
     "metadata": {},
     "output_type": "execute_result"
    }
   ],
   "source": [
    "count2 = lambda input: (input ** 2) + 5\n",
    "\n",
    "count2(10)"
   ]
  },
  {
   "cell_type": "markdown",
   "metadata": {},
   "source": [
    "### 7. Write a function to calculate the power of a number raised to other ($a^b$)"
   ]
  },
  {
   "cell_type": "code",
   "execution_count": 39,
   "metadata": {},
   "outputs": [
    {
     "data": {
      "text/plain": [
       "1"
      ]
     },
     "execution_count": 39,
     "metadata": {},
     "output_type": "execute_result"
    }
   ],
   "source": [
    "def the_power_of(number, power):\n",
    "    return number ** power\n",
    "\n",
    "the_power_of(12, 0)"
   ]
  },
  {
   "cell_type": "markdown",
   "metadata": {},
   "source": [
    "### 8. Write a function to calculate the area of a triangle\n",
    "\n",
    "area of triangle = 1/2 * base * height"
   ]
  },
  {
   "cell_type": "code",
   "execution_count": 40,
   "metadata": {},
   "outputs": [
    {
     "data": {
      "text/plain": [
       "6.0"
      ]
     },
     "execution_count": 40,
     "metadata": {},
     "output_type": "execute_result"
    }
   ],
   "source": [
    "def triangle_area(base, height):\n",
    "    return 0.5 * base * height\n",
    "\n",
    "triangle_area(4, 3)"
   ]
  },
  {
   "cell_type": "markdown",
   "metadata": {},
   "source": [
    "### 9. Create a function that takes country as the input and returns \"I am from *Country* \""
   ]
  },
  {
   "cell_type": "code",
   "execution_count": 41,
   "metadata": {},
   "outputs": [
    {
     "data": {
      "text/plain": [
       "\"I'm from Indonesia country\""
      ]
     },
     "execution_count": 41,
     "metadata": {},
     "output_type": "execute_result"
    }
   ],
   "source": [
    "def my_country(country):\n",
    "    return f\"I'm from {country} country\"\n",
    "\n",
    "my_country(\"Indonesia\")"
   ]
  },
  {
   "cell_type": "markdown",
   "metadata": {},
   "source": [
    "### 10. Write a function to convert degree Celsius temperature to Fahrenheit"
   ]
  },
  {
   "cell_type": "code",
   "execution_count": 42,
   "metadata": {},
   "outputs": [
    {
     "data": {
      "text/plain": [
       "68.0"
      ]
     },
     "execution_count": 42,
     "metadata": {},
     "output_type": "execute_result"
    }
   ],
   "source": [
    "def cel_to_fahren(celsius):\n",
    "    return (9/5) * celsius + 32\n",
    "\n",
    "cel_to_fahren(20)"
   ]
  },
  {
   "cell_type": "code",
   "execution_count": 1,
   "metadata": {},
   "outputs": [
    {
     "name": "stdout",
     "output_type": "stream",
     "text": [
      "kok bisa\n"
     ]
    }
   ],
   "source": [
    "def nameIdentify():\n",
    "    name = input(\"Masukan nama kamu!\")\n",
    "\n",
    "    if 'muhammad' or 'ahmad' or 'muhamad' in name.lower():\n",
    "        isMuslim = input('kamu muslim ya? (y/n) ')\n",
    "        print('kok bisa') if isMuslim.lower() == 'n' else print('Assalamualaikum')\n",
    "    elif len(name.split()) >= 3:\n",
    "        print('nama kamu kepanjangan')\n",
    "    else:\n",
    "        print('nama kamu biasa saja')\n",
    "        \n",
    "nameIdentify()"
   ]
  },
  {
   "cell_type": "markdown",
   "metadata": {},
   "source": [
    "## soal python:\n",
    "\n",
    "- ipk\n",
    "- toefl\n",
    "- tkda\n",
    "- usia\n",
    "- pengalaman kerja\n",
    "\n",
    "syarat masuk kerja :\n",
    "\n",
    "- ipk >= 3.25\n",
    "- foefl >= 450\n",
    "- tkda >= 400\n",
    "- pengalaman >= 2 tahun\n",
    "- usia >= 25\n",
    "\n",
    "kondisi :\n",
    "\n",
    "- kalo memenuhin maka di print kamu memenuin\n",
    "- kalo tidak memnuhin maka sebutin mana yang tidak memnuhi\n",
    "- tapi kalo yang tidak memenuhi hanya TKDA dan TKDA nya tidak memenuhi (300 > tkda < 400) maka diberi kesempatan maka kamu diberi kesempatan untuk menampilkan tkda yang lebih baik"
   ]
  },
  {
   "cell_type": "code",
   "execution_count": 30,
   "metadata": {},
   "outputs": [
    {
     "name": "stdout",
     "output_type": "stream",
     "text": [
      "==============================================================\n",
      "\n",
      "- TOEFL kamu = 400.0, kurang dari 450\n",
      "- TKDA kamu = 299.0, kurang dari 400\n",
      "\n",
      "Maaf, Anda tidak diterima kerja!\n",
      "\n",
      "==============================================================\n"
     ]
    }
   ],
   "source": [
    "def daftarPekerjaan():\n",
    "    # declaration rules and variable\n",
    "    scoreName   = ['IPK','TOEFL','USIA','TKDA','PENGALAMAN']\n",
    "    score       = []\n",
    "    rules       = [3.25, 450, 25, 400, 2] \n",
    "    result      = ''\n",
    "    min_score   = 0\n",
    "\n",
    "    # creating input\n",
    "    for i in range(len(scoreName)):\n",
    "        temp = float(input(f'Masukan {scoreName[i]} Anda (menggunakan angka) : '))\n",
    "        score.append(temp)\n",
    "\n",
    "    # checking \n",
    "    for i in range(len(scoreName)):\n",
    "        if score[i] < rules[i]:\n",
    "            if i != 3:\n",
    "                min_score = min_score + 1\n",
    "                print(f'- {scoreName[i]} kamu = {score[i]}, kurang dari {rules[i]}')\n",
    "            elif i == 3 and score[3] < 300:\n",
    "                min_score = min_score + 1\n",
    "                print(f'- {scoreName[i]} kamu = {score[i]}, kurang dari {rules[i]}')\n",
    "\n",
    "    if min_score > 0:\n",
    "        result = \"\\nMaaf, Anda tidak diterima kerja!\"\n",
    "    else:\n",
    "        if score[3] < 400 and score[3] >= 300:\n",
    "            print(f'- kamu diberi kesempatan untuk menampilkan TKDA yang lebih baik, harus lebih dari {rules[3]} ya!')\n",
    "        result = \"\\nSelamat, Anda diterima kerja\"\n",
    "\n",
    "    return result\n",
    "            \n",
    "print(\"==============================================================\\n\")\n",
    "print(daftarPekerjaan())\n",
    "print(\"\\n==============================================================\")\n"
   ]
  },
  {
   "cell_type": "markdown",
   "metadata": {},
   "source": [
    "## tugas agis"
   ]
  },
  {
   "cell_type": "code",
   "execution_count": 14,
   "metadata": {},
   "outputs": [
    {
     "name": "stdout",
     "output_type": "stream",
     "text": [
      "4\n"
     ]
    }
   ],
   "source": [
    "def count_words(input, inputKalimat):\n",
    "    words       = inputKalimat.split(' ')\n",
    "    split_input = input.split(' ')\n",
    "    count       = 0\n",
    "\n",
    "    for word in split_input:\n",
    "        if word.lower() in words:\n",
    "            count += 1\n",
    "\n",
    "    return count\n",
    "\n",
    "sentence = input(\"Masukan kalimat : \")\n",
    "sentence2 = input(\"Masukan kalimat ke 2 : \")\n",
    "print(count_words(sentence, sentence2))\n"
   ]
  },
  {
   "cell_type": "markdown",
   "metadata": {},
   "source": [
    "## tugas arya"
   ]
  },
  {
   "cell_type": "code",
   "execution_count": null,
   "metadata": {},
   "outputs": [],
   "source": [
    "def printNumber(batasBawah, batasAtas):\n",
    "    for i in range(batasBawah, batasAtas):\n",
    "        if 30 >= i <= 50 and i % 2 == 0:\n",
    "            print('Okey')\n",
    "        else:\n",
    "            print(i)\n",
    "\n",
    "batasBawah = int(input(\"Masukan batas bawah : \"))\n",
    "batasAtas = int(input(\"Masukan batas atas : \"))\n",
    "print(printNumber(batasBawah, batasAtas))"
   ]
  },
  {
   "cell_type": "markdown",
   "metadata": {},
   "source": [
    "## tugas aliya"
   ]
  },
  {
   "cell_type": "code",
   "execution_count": null,
   "metadata": {},
   "outputs": [],
   "source": [
    "def matkul(inputMatkul):\n",
    "    inputMatkul = inputMatkul.split(',')\n",
    "    rules = ['matematika','programing','database','ai','kalkulus']\n",
    "\n",
    "    if len(inputMatkul) < 3:\n",
    "        print(\"Maaf input kamu kurang dari 4 mata kuliah\")\n",
    "    else:\n",
    "        if inputMatkul[:3] == rules[:3]\n",
    "                "
   ]
  }
 ],
 "metadata": {
  "kernelspec": {
   "display_name": "Python 3 (ipykernel)",
   "language": "python",
   "name": "python3"
  },
  "language_info": {
   "codemirror_mode": {
    "name": "ipython",
    "version": 3
   },
   "file_extension": ".py",
   "mimetype": "text/x-python",
   "name": "python",
   "nbconvert_exporter": "python",
   "pygments_lexer": "ipython3",
   "version": "3.12.3"
  }
 },
 "nbformat": 4,
 "nbformat_minor": 4
}
